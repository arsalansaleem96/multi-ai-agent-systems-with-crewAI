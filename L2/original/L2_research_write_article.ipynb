{
 "cells": [
  {
   "cell_type": "markdown",
   "metadata": {},
   "source": [
    "You can download the `requirements.txt` for this course from the workspace of this lab. `File --> Open...`"
   ]
  },
  {
   "cell_type": "markdown",
   "metadata": {},
   "source": [
    "# L2: Create Agents to Research and Write an Article\n",
    "\n",
    "In this lesson, you will be introduced to the foundational concepts of multi-agent systems and get an overview of the crewAI framework."
   ]
  },
  {
   "cell_type": "markdown",
   "metadata": {},
   "source": [
    "The libraries are already installed in the classroom. If you're running this notebook on your own machine, you can install the following:\n",
    "```Python\n",
    "!pip install crewai==0.28.8 crewai_tools==0.1.6 langchain_community==0.0.29\n",
    "```"
   ]
  },
  {
   "cell_type": "code",
   "execution_count": 15,
   "metadata": {
    "height": 64
   },
   "outputs": [],
   "source": [
    "# Warning control\n",
    "import warnings\n",
    "warnings.filterwarnings('ignore')"
   ]
  },
  {
   "cell_type": "markdown",
   "metadata": {},
   "source": [
    "- Import from the crewAI libray."
   ]
  },
  {
   "cell_type": "code",
   "execution_count": 16,
   "metadata": {
    "height": 30
   },
   "outputs": [],
   "source": [
    "from crewai import Agent, Task, Crew"
   ]
  },
  {
   "cell_type": "markdown",
   "metadata": {},
   "source": [
    "- As a LLM for your agents, you'll be using OpenAI's `gpt-3.5-turbo`.\n",
    "\n",
    "**Optional Note:** crewAI also allow other popular models to be used as a LLM for your Agents. You can see some of the examples at the [bottom of the notebook](#1)."
   ]
  },
  {
   "cell_type": "code",
   "execution_count": 17,
   "metadata": {
    "height": 98
   },
   "outputs": [],
   "source": [
    "import os\n",
    "from utils import get_openai_api_key\n",
    "\n",
    "openai_api_key = get_openai_api_key()\n",
    "os.environ[\"OPENAI_MODEL_NAME\"] = 'gpt-3.5-turbo'"
   ]
  },
  {
   "cell_type": "markdown",
   "metadata": {},
   "source": [
    "## Creating Agents\n",
    "\n",
    "- Define your Agents, and provide them a `role`, `goal` and `backstory`.\n",
    "- It has been seen that LLMs perform better when they are role playing."
   ]
  },
  {
   "cell_type": "markdown",
   "metadata": {},
   "source": [
    "### Agent: Planner\n",
    "\n",
    "**Note**: The benefit of using _multiple strings_ :\n",
    "```Python\n",
    "varname = \"line 1 of text\"\n",
    "          \"line 2 of text\"\n",
    "```\n",
    "\n",
    "versus the _triple quote docstring_:\n",
    "```Python\n",
    "varname = \"\"\"line 1 of text\n",
    "             line 2 of text\n",
    "          \"\"\"\n",
    "```\n",
    "is that it can avoid adding those whitespaces and newline characters, making it better formatted to be passed to the LLM."
   ]
  },
  {
   "cell_type": "code",
   "execution_count": 18,
   "metadata": {
    "height": 249
   },
   "outputs": [],
   "source": [
    "planner = Agent(\n",
    "    role=\"Content Planner\",\n",
    "    goal=\"Plan engaging and factually accurate content on {topic}\",\n",
    "    backstory=\"You're working on planning a blog article \"\n",
    "              \"about the topic: {topic}.\"\n",
    "              \"You collect information that helps the \"\n",
    "              \"audience learn something \"\n",
    "              \"and make informed decisions. \"\n",
    "              \"Your work is the basis for \"\n",
    "              \"the Content Writer to write an article on this topic.\",\n",
    "    allow_delegation=False,\n",
    "\tverbose=True\n",
    ")"
   ]
  },
  {
   "cell_type": "markdown",
   "metadata": {},
   "source": [
    "### Agent: Writer"
   ]
  },
  {
   "cell_type": "code",
   "execution_count": 19,
   "metadata": {
    "height": 385
   },
   "outputs": [],
   "source": [
    "writer = Agent(\n",
    "    role=\"Content Writer\",\n",
    "    goal=\"Write insightful and factually accurate \"\n",
    "         \"opinion piece about the topic: {topic}\",\n",
    "    backstory=\"You're working on a writing \"\n",
    "              \"a new opinion piece about the topic: {topic}. \"\n",
    "              \"You base your writing on the work of \"\n",
    "              \"the Content Planner, who provides an outline \"\n",
    "              \"and relevant context about the topic. \"\n",
    "              \"You follow the main objectives and \"\n",
    "              \"direction of the outline, \"\n",
    "              \"as provide by the Content Planner. \"\n",
    "              \"You also provide objective and impartial insights \"\n",
    "              \"and back them up with information \"\n",
    "              \"provide by the Content Planner. \"\n",
    "              \"You acknowledge in your opinion piece \"\n",
    "              \"when your statements are opinions \"\n",
    "              \"as opposed to objective statements.\",\n",
    "    allow_delegation=False,\n",
    "    verbose=True\n",
    ")"
   ]
  },
  {
   "cell_type": "markdown",
   "metadata": {},
   "source": [
    "### Agent: Editor"
   ]
  },
  {
   "cell_type": "code",
   "execution_count": 20,
   "metadata": {
    "height": 283
   },
   "outputs": [],
   "source": [
    "editor = Agent(\n",
    "    role=\"Editor\",\n",
    "    goal=\"Edit a given blog post to align with \"\n",
    "         \"the writing style of the organization. \",\n",
    "    backstory=\"You are an editor who receives a blog post \"\n",
    "              \"from the Content Writer. \"\n",
    "              \"Your goal is to review the blog post \"\n",
    "              \"to ensure that it follows journalistic best practices,\"\n",
    "              \"provides balanced viewpoints \"\n",
    "              \"when providing opinions or assertions, \"\n",
    "              \"and also avoids major controversial topics \"\n",
    "              \"or opinions when possible.\",\n",
    "    allow_delegation=False,\n",
    "    verbose=True\n",
    ")"
   ]
  },
  {
   "cell_type": "markdown",
   "metadata": {},
   "source": [
    "## Creating Tasks\n",
    "\n",
    "- Define your Tasks, and provide them a `description`, `expected_output` and `agent`."
   ]
  },
  {
   "cell_type": "markdown",
   "metadata": {},
   "source": [
    "### Task: Plan"
   ]
  },
  {
   "cell_type": "code",
   "execution_count": 21,
   "metadata": {
    "height": 283
   },
   "outputs": [],
   "source": [
    "plan = Task(\n",
    "    description=(\n",
    "        \"1. Prioritize the latest trends, key players, \"\n",
    "            \"and noteworthy news on {topic}.\\n\"\n",
    "        \"2. Identify the target audience, considering \"\n",
    "            \"their interests and pain points.\\n\"\n",
    "        \"3. Develop a detailed content outline including \"\n",
    "            \"an introduction, key points, and a call to action.\\n\"\n",
    "        \"4. Include SEO keywords and relevant data or sources.\"\n",
    "    ),\n",
    "    expected_output=\"A comprehensive content plan document \"\n",
    "        \"with an outline, audience analysis, \"\n",
    "        \"SEO keywords, and resources.\",\n",
    "    agent=planner,\n",
    ")"
   ]
  },
  {
   "cell_type": "markdown",
   "metadata": {},
   "source": [
    "### Task: Write"
   ]
  },
  {
   "cell_type": "code",
   "execution_count": 22,
   "metadata": {
    "height": 319
   },
   "outputs": [],
   "source": [
    "write = Task(\n",
    "    description=(\n",
    "        \"1. Use the content plan to craft a compelling \"\n",
    "            \"blog post on {topic}.\\n\"\n",
    "        \"2. Incorporate SEO keywords naturally.\\n\"\n",
    "\t\t\"3. Sections/Subtitles are properly named \"\n",
    "            \"in an engaging manner.\\n\"\n",
    "        \"4. Ensure the post is structured with an \"\n",
    "            \"engaging introduction, insightful body, \"\n",
    "            \"and a summarizing conclusion.\\n\"\n",
    "        \"5. Proofread for grammatical errors and \"\n",
    "            \"alignment with the brand's voice.\\n\"\n",
    "    ),\n",
    "    expected_output=\"A well-written blog post \"\n",
    "        \"in markdown format, ready for publication, \"\n",
    "        \"each section should have 2 or 3 paragraphs.\",\n",
    "    agent=writer,\n",
    ")"
   ]
  },
  {
   "cell_type": "markdown",
   "metadata": {},
   "source": [
    "### Task: Edit"
   ]
  },
  {
   "cell_type": "code",
   "execution_count": 23,
   "metadata": {
    "height": 181
   },
   "outputs": [],
   "source": [
    "edit = Task(\n",
    "    description=(\"Proofread the given blog post for \"\n",
    "                 \"grammatical errors and \"\n",
    "                 \"alignment with the brand's voice.\"),\n",
    "    expected_output=\"A well-written blog post in markdown format, \"\n",
    "                    \"ready for publication, \"\n",
    "                    \"each section should have 2 or 3 paragraphs.\",\n",
    "    agent=editor\n",
    ")"
   ]
  },
  {
   "cell_type": "markdown",
   "metadata": {},
   "source": [
    "## Creating the Crew\n",
    "\n",
    "- Create your crew of Agents\n",
    "- Pass the tasks to be performed by those agents.\n",
    "    - **Note**: *For this simple example*, the tasks will be performed sequentially (i.e they are dependent on each other), so the _order_ of the task in the list _matters_.\n",
    "- `verbose=2` allows you to see all the logs of the execution. "
   ]
  },
  {
   "cell_type": "code",
   "execution_count": 24,
   "metadata": {
    "height": 98
   },
   "outputs": [
    {
     "name": "stderr",
     "output_type": "stream",
     "text": [
      "2024-11-21 11:45:22,851 - 139982012722048 - __init__.py-__init__:518 - WARNING: Overriding of current TracerProvider is not allowed\n"
     ]
    }
   ],
   "source": [
    "crew = Crew(\n",
    "    agents=[planner, writer, editor],\n",
    "    tasks=[plan, write, edit],\n",
    "    verbose=2\n",
    ")"
   ]
  },
  {
   "cell_type": "markdown",
   "metadata": {},
   "source": [
    "## Running the Crew"
   ]
  },
  {
   "cell_type": "markdown",
   "metadata": {},
   "source": [
    "**Note**: LLMs can provide different outputs for they same input, so what you get might be different than what you see in the video."
   ]
  },
  {
   "cell_type": "code",
   "execution_count": 11,
   "metadata": {
    "height": 45
   },
   "outputs": [
    {
     "name": "stdout",
     "output_type": "stream",
     "text": [
      "\u001b[1m\u001b[95m [DEBUG]: == Working Agent: Content Planner\u001b[00m\n",
      "\u001b[1m\u001b[95m [INFO]: == Starting Task: 1. Prioritize the latest trends, key players, and noteworthy news on Artificial Intelligence.\n",
      "2. Identify the target audience, considering their interests and pain points.\n",
      "3. Develop a detailed content outline including an introduction, key points, and a call to action.\n",
      "4. Include SEO keywords and relevant data or sources.\u001b[00m\n",
      "\n",
      "\n",
      "\u001b[1m> Entering new CrewAgentExecutor chain...\u001b[0m\n",
      "\u001b[32;1m\u001b[1;3mI now can give a great answer\n",
      "\n",
      "Final Answer: \n",
      "\n",
      "Content Plan Document\n",
      "\n",
      "Topic: Artificial Intelligence\n",
      "\n",
      "Outline:\n",
      "\n",
      "I. Introduction\n",
      "- Brief overview of Artificial Intelligence (AI)\n",
      "- Importance of AI in various industries\n",
      "- Thesis statement on the impact of AI on society\n",
      "\n",
      "II. Latest Trends in Artificial Intelligence\n",
      "- Machine learning advancements\n",
      "- Natural language processing developments\n",
      "- AI ethics and regulations updates\n",
      "- AI in healthcare and finance sectors\n",
      "\n",
      "III. Key Players in the AI Industry\n",
      "- Leading tech companies investing in AI\n",
      "- Startups disrupting the AI market\n",
      "- Notable research institutions contributing to AI innovation\n",
      "\n",
      "IV. Noteworthy News in Artificial Intelligence\n",
      "- Recent breakthroughs in AI research\n",
      "- AI applications in everyday life\n",
      "- Challenges and controversies surrounding AI technology\n",
      "\n",
      "V. Target Audience Analysis\n",
      "- Tech-savvy individuals interested in AI advancements\n",
      "- Business professionals seeking to implement AI solutions\n",
      "- Students and researchers studying AI concepts\n",
      "- General public curious about the impact of AI on society\n",
      "\n",
      "VI. SEO Keywords\n",
      "- Artificial Intelligence trends\n",
      "- Top AI companies\n",
      "- Latest AI news\n",
      "- Ethical AI practices\n",
      "- AI applications in healthcare\n",
      "\n",
      "VII. Resources\n",
      "1. \"The AI Revolution: The Road to Superintelligence\" by Tim Urban\n",
      "2. \"Artificial Unintelligence: How Computers Misunderstand the World\" by Meredith Broussard\n",
      "3. MIT Technology Review - Artificial Intelligence news section\n",
      "4. Forbes - AI & Big Data articles\n",
      "\n",
      "Call to Action: \n",
      "Stay informed about the latest developments in Artificial Intelligence by subscribing to our newsletter for regular updates and insights.\n",
      "\n",
      "Note: This content plan document provides a detailed outline for the blog article on Artificial Intelligence, covering the latest trends, key players, noteworthy news, target audience analysis, SEO keywords, and relevant resources for a comprehensive and engaging piece.\u001b[0m\n",
      "\n",
      "\u001b[1m> Finished chain.\u001b[0m\n",
      "\u001b[1m\u001b[92m [DEBUG]: == [Content Planner] Task output: Content Plan Document\n",
      "\n",
      "Topic: Artificial Intelligence\n",
      "\n",
      "Outline:\n",
      "\n",
      "I. Introduction\n",
      "- Brief overview of Artificial Intelligence (AI)\n",
      "- Importance of AI in various industries\n",
      "- Thesis statement on the impact of AI on society\n",
      "\n",
      "II. Latest Trends in Artificial Intelligence\n",
      "- Machine learning advancements\n",
      "- Natural language processing developments\n",
      "- AI ethics and regulations updates\n",
      "- AI in healthcare and finance sectors\n",
      "\n",
      "III. Key Players in the AI Industry\n",
      "- Leading tech companies investing in AI\n",
      "- Startups disrupting the AI market\n",
      "- Notable research institutions contributing to AI innovation\n",
      "\n",
      "IV. Noteworthy News in Artificial Intelligence\n",
      "- Recent breakthroughs in AI research\n",
      "- AI applications in everyday life\n",
      "- Challenges and controversies surrounding AI technology\n",
      "\n",
      "V. Target Audience Analysis\n",
      "- Tech-savvy individuals interested in AI advancements\n",
      "- Business professionals seeking to implement AI solutions\n",
      "- Students and researchers studying AI concepts\n",
      "- General public curious about the impact of AI on society\n",
      "\n",
      "VI. SEO Keywords\n",
      "- Artificial Intelligence trends\n",
      "- Top AI companies\n",
      "- Latest AI news\n",
      "- Ethical AI practices\n",
      "- AI applications in healthcare\n",
      "\n",
      "VII. Resources\n",
      "1. \"The AI Revolution: The Road to Superintelligence\" by Tim Urban\n",
      "2. \"Artificial Unintelligence: How Computers Misunderstand the World\" by Meredith Broussard\n",
      "3. MIT Technology Review - Artificial Intelligence news section\n",
      "4. Forbes - AI & Big Data articles\n",
      "\n",
      "Call to Action: \n",
      "Stay informed about the latest developments in Artificial Intelligence by subscribing to our newsletter for regular updates and insights.\n",
      "\n",
      "Note: This content plan document provides a detailed outline for the blog article on Artificial Intelligence, covering the latest trends, key players, noteworthy news, target audience analysis, SEO keywords, and relevant resources for a comprehensive and engaging piece.\n",
      "\n",
      "\u001b[00m\n",
      "\u001b[1m\u001b[95m [DEBUG]: == Working Agent: Content Writer\u001b[00m\n",
      "\u001b[1m\u001b[95m [INFO]: == Starting Task: 1. Use the content plan to craft a compelling blog post on Artificial Intelligence.\n",
      "2. Incorporate SEO keywords naturally.\n",
      "3. Sections/Subtitles are properly named in an engaging manner.\n",
      "4. Ensure the post is structured with an engaging introduction, insightful body, and a summarizing conclusion.\n",
      "5. Proofread for grammatical errors and alignment with the brand's voice.\n",
      "\u001b[00m\n",
      "\n",
      "\n",
      "\u001b[1m> Entering new CrewAgentExecutor chain...\u001b[0m\n",
      "\u001b[32;1m\u001b[1;3mI have a clear understanding of the content plan and the objectives for this blog post on Artificial Intelligence. I am confident that I can craft a compelling and informative piece that will engage readers and provide valuable insights into this rapidly evolving field.\n",
      "\n",
      "Final Answer:\n",
      "# The Impact of Artificial Intelligence on Society\n",
      "\n",
      "## Introduction\n",
      "\n",
      "Artificial Intelligence (AI) has become a pervasive force in our modern world, revolutionizing industries and reshaping the way we interact with technology. From self-driving cars to personalized recommendations on streaming platforms, AI has permeated various aspects of our daily lives. The importance of AI cannot be overstated, as it continues to drive innovation and efficiency across sectors. As we delve into the impact of AI on society, it is crucial to recognize the profound implications of this technology.\n",
      "\n",
      "## Latest Trends in Artificial Intelligence\n",
      "\n",
      "The latest trends in AI showcase the rapid advancements in machine learning and natural language processing. These developments have enabled AI systems to analyze vast amounts of data and learn from it, leading to more accurate predictions and insights. Moreover, the ethical considerations surrounding AI have come to the forefront, prompting discussions on regulations and guidelines to ensure responsible use of this technology. In sectors like healthcare and finance, AI applications are transforming the way services are delivered and improving outcomes for patients and customers.\n",
      "\n",
      "## Key Players in the AI Industry\n",
      "\n",
      "Leading tech companies such as Google, Amazon, and Microsoft are heavily investing in AI research and development, driving innovation in the field. Startups are also disrupting the AI market with niche solutions and cutting-edge technologies. Research institutions like MIT and Stanford are at the forefront of AI innovation, pushing the boundaries of what is possible with this technology.\n",
      "\n",
      "## Noteworthy News in Artificial Intelligence\n",
      "\n",
      "Recent breakthroughs in AI research have opened up new possibilities for applications in everyday life. From virtual assistants to autonomous drones, AI is reshaping the way we interact with technology. However, challenges and controversies surrounding AI, such as bias in algorithms and data privacy concerns, highlight the need for ethical practices and regulations in the industry.\n",
      "\n",
      "## Target Audience Analysis\n",
      "\n",
      "Tech-savvy individuals, business professionals, students, and the general public are all interested in the impact of AI on society. Whether it's understanding the latest trends in AI, learning about top companies in the industry, or exploring ethical considerations, there is a wide audience eager to engage with this topic.\n",
      "\n",
      "## Conclusion\n",
      "\n",
      "As AI continues to evolve and shape our world, staying informed about the latest developments is essential. By exploring the latest trends, key players, and noteworthy news in the AI industry, we can better understand the impact of this technology on society. Embracing ethical AI practices and staying informed about the latest advancements will be crucial as we navigate the future of artificial intelligence.\n",
      "\n",
      "*Stay informed about the latest developments in Artificial Intelligence by subscribing to our newsletter for regular updates and insights.*\u001b[0m\n",
      "\n",
      "\u001b[1m> Finished chain.\u001b[0m\n",
      "\u001b[1m\u001b[92m [DEBUG]: == [Content Writer] Task output: # The Impact of Artificial Intelligence on Society\n",
      "\n",
      "## Introduction\n",
      "\n",
      "Artificial Intelligence (AI) has become a pervasive force in our modern world, revolutionizing industries and reshaping the way we interact with technology. From self-driving cars to personalized recommendations on streaming platforms, AI has permeated various aspects of our daily lives. The importance of AI cannot be overstated, as it continues to drive innovation and efficiency across sectors. As we delve into the impact of AI on society, it is crucial to recognize the profound implications of this technology.\n",
      "\n",
      "## Latest Trends in Artificial Intelligence\n",
      "\n",
      "The latest trends in AI showcase the rapid advancements in machine learning and natural language processing. These developments have enabled AI systems to analyze vast amounts of data and learn from it, leading to more accurate predictions and insights. Moreover, the ethical considerations surrounding AI have come to the forefront, prompting discussions on regulations and guidelines to ensure responsible use of this technology. In sectors like healthcare and finance, AI applications are transforming the way services are delivered and improving outcomes for patients and customers.\n",
      "\n",
      "## Key Players in the AI Industry\n",
      "\n",
      "Leading tech companies such as Google, Amazon, and Microsoft are heavily investing in AI research and development, driving innovation in the field. Startups are also disrupting the AI market with niche solutions and cutting-edge technologies. Research institutions like MIT and Stanford are at the forefront of AI innovation, pushing the boundaries of what is possible with this technology.\n",
      "\n",
      "## Noteworthy News in Artificial Intelligence\n",
      "\n",
      "Recent breakthroughs in AI research have opened up new possibilities for applications in everyday life. From virtual assistants to autonomous drones, AI is reshaping the way we interact with technology. However, challenges and controversies surrounding AI, such as bias in algorithms and data privacy concerns, highlight the need for ethical practices and regulations in the industry.\n",
      "\n",
      "## Target Audience Analysis\n",
      "\n",
      "Tech-savvy individuals, business professionals, students, and the general public are all interested in the impact of AI on society. Whether it's understanding the latest trends in AI, learning about top companies in the industry, or exploring ethical considerations, there is a wide audience eager to engage with this topic.\n",
      "\n",
      "## Conclusion\n",
      "\n",
      "As AI continues to evolve and shape our world, staying informed about the latest developments is essential. By exploring the latest trends, key players, and noteworthy news in the AI industry, we can better understand the impact of this technology on society. Embracing ethical AI practices and staying informed about the latest advancements will be crucial as we navigate the future of artificial intelligence.\n",
      "\n",
      "*Stay informed about the latest developments in Artificial Intelligence by subscribing to our newsletter for regular updates and insights.*\n",
      "\n",
      "\u001b[00m\n",
      "\u001b[1m\u001b[95m [DEBUG]: == Working Agent: Editor\u001b[00m\n",
      "\u001b[1m\u001b[95m [INFO]: == Starting Task: Proofread the given blog post for grammatical errors and alignment with the brand's voice.\u001b[00m\n",
      "\n",
      "\n",
      "\u001b[1m> Entering new CrewAgentExecutor chain...\u001b[0m\n"
     ]
    },
    {
     "name": "stdout",
     "output_type": "stream",
     "text": [
      "\u001b[32;1m\u001b[1;3mI now can give a great answer\n",
      "\n",
      "Final Answer:\n",
      "# The Impact of Artificial Intelligence on Society\n",
      "\n",
      "Artificial Intelligence (AI) has undoubtedly transformed the way we live and interact with technology in today's society. From self-driving cars to personalized recommendations on streaming platforms, AI has become an integral part of our daily lives, driving innovation and efficiency across various industries. It is crucial to understand the profound implications of AI as it continues to shape our world.\n",
      "\n",
      "The latest trends in AI are characterized by rapid advancements in machine learning and natural language processing, allowing AI systems to analyze vast amounts of data and provide more accurate predictions and insights. However, the ethical considerations surrounding AI have become increasingly important, sparking conversations about regulations and guidelines to ensure responsible use of this powerful technology. In sectors like healthcare and finance, AI applications are revolutionizing service delivery and improving outcomes for both patients and customers.\n",
      "\n",
      "Leading tech giants like Google, Amazon, and Microsoft are heavily investing in AI research and development, driving innovation and pushing the boundaries of what is achievable with AI. Additionally, startups are disrupting the AI market with niche solutions and cutting-edge technologies, while research institutions like MIT and Stanford are at the forefront of AI innovation, paving the way for future advancements in the field.\n",
      "\n",
      "Recent breakthroughs in AI research have unlocked new possibilities for everyday applications, from virtual assistants to autonomous drones, reshaping how we interact with technology. Despite the exciting prospects AI brings, challenges such as bias in algorithms and data privacy concerns underscore the importance of ethical practices and regulations in the industry. It is essential for tech-savvy individuals, business professionals, students, and the general public to stay informed about the impact of AI on society, from understanding the latest trends to exploring ethical considerations and key players in the industry. Embracing ethical AI practices and staying up-to-date on advancements will be crucial as we navigate the evolving landscape of artificial intelligence.\n",
      "\n",
      "*Stay informed about the latest developments in Artificial Intelligence by subscribing to our newsletter for regular updates and insights.*\u001b[0m\n",
      "\n",
      "\u001b[1m> Finished chain.\u001b[0m\n",
      "\u001b[1m\u001b[92m [DEBUG]: == [Editor] Task output: # The Impact of Artificial Intelligence on Society\n",
      "\n",
      "Artificial Intelligence (AI) has undoubtedly transformed the way we live and interact with technology in today's society. From self-driving cars to personalized recommendations on streaming platforms, AI has become an integral part of our daily lives, driving innovation and efficiency across various industries. It is crucial to understand the profound implications of AI as it continues to shape our world.\n",
      "\n",
      "The latest trends in AI are characterized by rapid advancements in machine learning and natural language processing, allowing AI systems to analyze vast amounts of data and provide more accurate predictions and insights. However, the ethical considerations surrounding AI have become increasingly important, sparking conversations about regulations and guidelines to ensure responsible use of this powerful technology. In sectors like healthcare and finance, AI applications are revolutionizing service delivery and improving outcomes for both patients and customers.\n",
      "\n",
      "Leading tech giants like Google, Amazon, and Microsoft are heavily investing in AI research and development, driving innovation and pushing the boundaries of what is achievable with AI. Additionally, startups are disrupting the AI market with niche solutions and cutting-edge technologies, while research institutions like MIT and Stanford are at the forefront of AI innovation, paving the way for future advancements in the field.\n",
      "\n",
      "Recent breakthroughs in AI research have unlocked new possibilities for everyday applications, from virtual assistants to autonomous drones, reshaping how we interact with technology. Despite the exciting prospects AI brings, challenges such as bias in algorithms and data privacy concerns underscore the importance of ethical practices and regulations in the industry. It is essential for tech-savvy individuals, business professionals, students, and the general public to stay informed about the impact of AI on society, from understanding the latest trends to exploring ethical considerations and key players in the industry. Embracing ethical AI practices and staying up-to-date on advancements will be crucial as we navigate the evolving landscape of artificial intelligence.\n",
      "\n",
      "*Stay informed about the latest developments in Artificial Intelligence by subscribing to our newsletter for regular updates and insights.*\n",
      "\n",
      "\u001b[00m\n"
     ]
    }
   ],
   "source": [
    "result = crew.kickoff(inputs={\"topic\": \"Artificial Intelligence\"})"
   ]
  },
  {
   "cell_type": "markdown",
   "metadata": {},
   "source": [
    "- Display the results of your execution as markdown in the notebook."
   ]
  },
  {
   "cell_type": "code",
   "execution_count": 12,
   "metadata": {
    "height": 47
   },
   "outputs": [
    {
     "data": {
      "text/markdown": [
       "# The Impact of Artificial Intelligence on Society\n",
       "\n",
       "Artificial Intelligence (AI) has undoubtedly transformed the way we live and interact with technology in today's society. From self-driving cars to personalized recommendations on streaming platforms, AI has become an integral part of our daily lives, driving innovation and efficiency across various industries. It is crucial to understand the profound implications of AI as it continues to shape our world.\n",
       "\n",
       "The latest trends in AI are characterized by rapid advancements in machine learning and natural language processing, allowing AI systems to analyze vast amounts of data and provide more accurate predictions and insights. However, the ethical considerations surrounding AI have become increasingly important, sparking conversations about regulations and guidelines to ensure responsible use of this powerful technology. In sectors like healthcare and finance, AI applications are revolutionizing service delivery and improving outcomes for both patients and customers.\n",
       "\n",
       "Leading tech giants like Google, Amazon, and Microsoft are heavily investing in AI research and development, driving innovation and pushing the boundaries of what is achievable with AI. Additionally, startups are disrupting the AI market with niche solutions and cutting-edge technologies, while research institutions like MIT and Stanford are at the forefront of AI innovation, paving the way for future advancements in the field.\n",
       "\n",
       "Recent breakthroughs in AI research have unlocked new possibilities for everyday applications, from virtual assistants to autonomous drones, reshaping how we interact with technology. Despite the exciting prospects AI brings, challenges such as bias in algorithms and data privacy concerns underscore the importance of ethical practices and regulations in the industry. It is essential for tech-savvy individuals, business professionals, students, and the general public to stay informed about the impact of AI on society, from understanding the latest trends to exploring ethical considerations and key players in the industry. Embracing ethical AI practices and staying up-to-date on advancements will be crucial as we navigate the evolving landscape of artificial intelligence.\n",
       "\n",
       "*Stay informed about the latest developments in Artificial Intelligence by subscribing to our newsletter for regular updates and insights.*"
      ],
      "text/plain": [
       "<IPython.core.display.Markdown object>"
      ]
     },
     "execution_count": 12,
     "metadata": {},
     "output_type": "execute_result"
    }
   ],
   "source": [
    "from IPython.display import Markdown\n",
    "Markdown(result)"
   ]
  },
  {
   "cell_type": "markdown",
   "metadata": {},
   "source": [
    "## Try it Yourself\n",
    "\n",
    "- Pass in a topic of your choice and see what the agents come up with!"
   ]
  },
  {
   "cell_type": "code",
   "execution_count": 25,
   "metadata": {
    "height": 47
   },
   "outputs": [
    {
     "name": "stdout",
     "output_type": "stream",
     "text": [
      "\u001b[1m\u001b[95m [DEBUG]: == Working Agent: Content Planner\u001b[00m\n",
      "\u001b[1m\u001b[95m [INFO]: == Starting Task: 1. Prioritize the latest trends, key players, and noteworthy news on Multi Agents Framwework.\n",
      "2. Identify the target audience, considering their interests and pain points.\n",
      "3. Develop a detailed content outline including an introduction, key points, and a call to action.\n",
      "4. Include SEO keywords and relevant data or sources.\u001b[00m\n",
      "\n",
      "\n",
      "\u001b[1m> Entering new CrewAgentExecutor chain...\u001b[0m\n",
      "\u001b[32;1m\u001b[1;3mI now can give a great answer\n",
      "\n",
      "Final Answer:\n",
      "\n",
      "Content Plan Document\n",
      "\n",
      "Title: Exploring the Latest Trends in Multi Agents Framework\n",
      "\n",
      "Introduction:\n",
      "- Brief overview of Multi Agents Framework (MAF)\n",
      "- Importance of MAF in various industries\n",
      "- Mention of key players in the MAF market\n",
      "\n",
      "Key Points:\n",
      "1. Latest Trends in Multi Agents Framework:\n",
      "- Use of MAF in autonomous vehicles and robotics\n",
      "- Integration of MAF with IoT devices\n",
      "- Advancements in MAF algorithms and technologies\n",
      "\n",
      "2. Key Players in the MAF Market:\n",
      "- OpenAI\n",
      "- IBM Watson\n",
      "- Google DeepMind\n",
      "\n",
      "3. Noteworthy News on Multi Agents Framework:\n",
      "- Recent research studies on MAF applications\n",
      "- Industry partnerships and collaborations in the MAF space\n",
      "- Upcoming events and conferences related to MAF\n",
      "\n",
      "Audience Analysis:\n",
      "Target Audience: \n",
      "- Developers and engineers working in AI and robotics\n",
      "- Business professionals interested in implementing MAF solutions\n",
      "- Students and researchers studying multi-agent systems\n",
      "\n",
      "Interests:\n",
      "- Cutting-edge technology advancements\n",
      "- Practical applications of MAF in real-world scenarios\n",
      "- Industry insights and trends in the MAF market\n",
      "\n",
      "Pain Points:\n",
      "- Complexity of implementing MAF systems\n",
      "- Lack of awareness about the latest trends in MAF\n",
      "- Difficulty in finding reliable sources of information on MAF\n",
      "\n",
      "Content Outline:\n",
      "1. Introduction to Multi Agents Framework\n",
      "2. Latest Trends in MAF\n",
      "3. Key Players in the MAF Market\n",
      "4. Noteworthy News on Multi Agents Framework\n",
      "5. Conclusion and Call to Action\n",
      "\n",
      "SEO Keywords:\n",
      "- Multi Agents Framework\n",
      "- MAF trends\n",
      "- Key players in MAF\n",
      "- MAF news\n",
      "- Multi-agent systems advancements\n",
      "\n",
      "Resources:\n",
      "- Research papers on MAF applications\n",
      "- Industry reports on MAF market trends\n",
      "- Blogs and articles from leading MAF experts\n",
      "- Official websites of key players in the MAF market\n",
      "\n",
      "[End of Content Plan Document]\u001b[0m\n",
      "\n",
      "\u001b[1m> Finished chain.\u001b[0m\n",
      "\u001b[1m\u001b[92m [DEBUG]: == [Content Planner] Task output: Content Plan Document\n",
      "\n",
      "Title: Exploring the Latest Trends in Multi Agents Framework\n",
      "\n",
      "Introduction:\n",
      "- Brief overview of Multi Agents Framework (MAF)\n",
      "- Importance of MAF in various industries\n",
      "- Mention of key players in the MAF market\n",
      "\n",
      "Key Points:\n",
      "1. Latest Trends in Multi Agents Framework:\n",
      "- Use of MAF in autonomous vehicles and robotics\n",
      "- Integration of MAF with IoT devices\n",
      "- Advancements in MAF algorithms and technologies\n",
      "\n",
      "2. Key Players in the MAF Market:\n",
      "- OpenAI\n",
      "- IBM Watson\n",
      "- Google DeepMind\n",
      "\n",
      "3. Noteworthy News on Multi Agents Framework:\n",
      "- Recent research studies on MAF applications\n",
      "- Industry partnerships and collaborations in the MAF space\n",
      "- Upcoming events and conferences related to MAF\n",
      "\n",
      "Audience Analysis:\n",
      "Target Audience: \n",
      "- Developers and engineers working in AI and robotics\n",
      "- Business professionals interested in implementing MAF solutions\n",
      "- Students and researchers studying multi-agent systems\n",
      "\n",
      "Interests:\n",
      "- Cutting-edge technology advancements\n",
      "- Practical applications of MAF in real-world scenarios\n",
      "- Industry insights and trends in the MAF market\n",
      "\n",
      "Pain Points:\n",
      "- Complexity of implementing MAF systems\n",
      "- Lack of awareness about the latest trends in MAF\n",
      "- Difficulty in finding reliable sources of information on MAF\n",
      "\n",
      "Content Outline:\n",
      "1. Introduction to Multi Agents Framework\n",
      "2. Latest Trends in MAF\n",
      "3. Key Players in the MAF Market\n",
      "4. Noteworthy News on Multi Agents Framework\n",
      "5. Conclusion and Call to Action\n",
      "\n",
      "SEO Keywords:\n",
      "- Multi Agents Framework\n",
      "- MAF trends\n",
      "- Key players in MAF\n",
      "- MAF news\n",
      "- Multi-agent systems advancements\n",
      "\n",
      "Resources:\n",
      "- Research papers on MAF applications\n",
      "- Industry reports on MAF market trends\n",
      "- Blogs and articles from leading MAF experts\n",
      "- Official websites of key players in the MAF market\n",
      "\n",
      "[End of Content Plan Document]\n",
      "\n",
      "\u001b[00m\n",
      "\u001b[1m\u001b[95m [DEBUG]: == Working Agent: Content Writer\u001b[00m\n",
      "\u001b[1m\u001b[95m [INFO]: == Starting Task: 1. Use the content plan to craft a compelling blog post on Multi Agents Framwework.\n",
      "2. Incorporate SEO keywords naturally.\n",
      "3. Sections/Subtitles are properly named in an engaging manner.\n",
      "4. Ensure the post is structured with an engaging introduction, insightful body, and a summarizing conclusion.\n",
      "5. Proofread for grammatical errors and alignment with the brand's voice.\n",
      "\u001b[00m\n",
      "\n",
      "\n",
      "\u001b[1m> Entering new CrewAgentExecutor chain...\u001b[0m\n",
      "\u001b[32;1m\u001b[1;3mI now have a clear understanding of the content plan and the objectives for the blog post on Multi Agents Framework. By incorporating the latest trends, key players, and noteworthy news in the MAF market, I can provide valuable insights to the target audience. I will focus on highlighting the importance of MAF in various industries and addressing the pain points that developers, engineers, business professionals, students, and researchers face when it comes to implementing MAF systems.\n",
      "\n",
      "Final Answer:\n",
      "\n",
      "# Exploring the Latest Trends in Multi Agents Framework\n",
      "\n",
      "## Introduction to Multi Agents Framework\n",
      "The Multi Agents Framework (MAF) is a cutting-edge technology that involves the coordination and communication of multiple autonomous agents to achieve a common goal. In various industries such as autonomous vehicles, robotics, and IoT devices, MAF plays a crucial role in enhancing efficiency and decision-making processes. Key players in the MAF market, including OpenAI, IBM Watson, and Google DeepMind, have been at the forefront of developing advanced algorithms and technologies to push the boundaries of multi-agent systems.\n",
      "\n",
      "## Latest Trends in MAF\n",
      "One of the latest trends in MAF is its integration with autonomous vehicles and robotics, where multiple agents work together seamlessly to navigate complex environments and make real-time decisions. Additionally, the integration of MAF with IoT devices has opened up new possibilities for smart, interconnected systems that can adapt to changing conditions. Advancements in MAF algorithms and technologies have also led to more efficient and scalable solutions for a wide range of applications.\n",
      "\n",
      "## Key Players in the MAF Market\n",
      "OpenAI, IBM Watson, and Google DeepMind are among the key players in the MAF market, driving innovation and research in the field of multi-agent systems. These companies have been instrumental in developing state-of-the-art solutions that address the complexity of implementing MAF systems and provide valuable insights into the latest trends and advancements in the industry.\n",
      "\n",
      "## Noteworthy News on Multi Agents Framework\n",
      "Recent research studies on MAF applications have highlighted the practical applications of MAF in real-world scenarios, showcasing the potential for widespread adoption in various industries. Industry partnerships and collaborations in the MAF space have further accelerated the development of MAF technologies, leading to more robust and reliable systems. Upcoming events and conferences related to MAF provide opportunities for developers, engineers, business professionals, students, and researchers to stay updated on the latest trends and network with industry experts.\n",
      "\n",
      "## Conclusion and Call to Action\n",
      "In conclusion, the Multi Agents Framework is a dynamic and evolving technology that offers immense potential for innovation and growth in various industries. By staying informed about the latest trends, key players, and noteworthy news in the MAF market, individuals can gain valuable insights and stay ahead of the curve in implementing MAF solutions. I encourage all stakeholders in the AI and robotics field to explore the possibilities of MAF and leverage its capabilities to drive success in their respective domains.\n",
      "\n",
      "Overall, this blog post aims to provide a comprehensive overview of the latest trends in Multi Agents Framework, highlighting the key players in the MAF market, and sharing noteworthy news on MAF applications. By addressing the pain points and interests of the target audience, this content piece seeks to educate and inform readers about the importance and potential of MAF in today's technology-driven world.\u001b[0m\n",
      "\n",
      "\u001b[1m> Finished chain.\u001b[0m\n",
      "\u001b[1m\u001b[92m [DEBUG]: == [Content Writer] Task output: # Exploring the Latest Trends in Multi Agents Framework\n",
      "\n",
      "## Introduction to Multi Agents Framework\n",
      "The Multi Agents Framework (MAF) is a cutting-edge technology that involves the coordination and communication of multiple autonomous agents to achieve a common goal. In various industries such as autonomous vehicles, robotics, and IoT devices, MAF plays a crucial role in enhancing efficiency and decision-making processes. Key players in the MAF market, including OpenAI, IBM Watson, and Google DeepMind, have been at the forefront of developing advanced algorithms and technologies to push the boundaries of multi-agent systems.\n",
      "\n",
      "## Latest Trends in MAF\n",
      "One of the latest trends in MAF is its integration with autonomous vehicles and robotics, where multiple agents work together seamlessly to navigate complex environments and make real-time decisions. Additionally, the integration of MAF with IoT devices has opened up new possibilities for smart, interconnected systems that can adapt to changing conditions. Advancements in MAF algorithms and technologies have also led to more efficient and scalable solutions for a wide range of applications.\n",
      "\n",
      "## Key Players in the MAF Market\n",
      "OpenAI, IBM Watson, and Google DeepMind are among the key players in the MAF market, driving innovation and research in the field of multi-agent systems. These companies have been instrumental in developing state-of-the-art solutions that address the complexity of implementing MAF systems and provide valuable insights into the latest trends and advancements in the industry.\n",
      "\n",
      "## Noteworthy News on Multi Agents Framework\n",
      "Recent research studies on MAF applications have highlighted the practical applications of MAF in real-world scenarios, showcasing the potential for widespread adoption in various industries. Industry partnerships and collaborations in the MAF space have further accelerated the development of MAF technologies, leading to more robust and reliable systems. Upcoming events and conferences related to MAF provide opportunities for developers, engineers, business professionals, students, and researchers to stay updated on the latest trends and network with industry experts.\n",
      "\n",
      "## Conclusion and Call to Action\n",
      "In conclusion, the Multi Agents Framework is a dynamic and evolving technology that offers immense potential for innovation and growth in various industries. By staying informed about the latest trends, key players, and noteworthy news in the MAF market, individuals can gain valuable insights and stay ahead of the curve in implementing MAF solutions. I encourage all stakeholders in the AI and robotics field to explore the possibilities of MAF and leverage its capabilities to drive success in their respective domains.\n",
      "\n",
      "Overall, this blog post aims to provide a comprehensive overview of the latest trends in Multi Agents Framework, highlighting the key players in the MAF market, and sharing noteworthy news on MAF applications. By addressing the pain points and interests of the target audience, this content piece seeks to educate and inform readers about the importance and potential of MAF in today's technology-driven world.\n",
      "\n",
      "\u001b[00m\n",
      "\u001b[1m\u001b[95m [DEBUG]: == Working Agent: Editor\u001b[00m\n",
      "\u001b[1m\u001b[95m [INFO]: == Starting Task: Proofread the given blog post for grammatical errors and alignment with the brand's voice.\u001b[00m\n",
      "\n",
      "\n",
      "\u001b[1m> Entering new CrewAgentExecutor chain...\u001b[0m\n"
     ]
    },
    {
     "name": "stdout",
     "output_type": "stream",
     "text": [
      "\u001b[32;1m\u001b[1;3mI now can give a great answer\n",
      "\n",
      "Final Answer:\n",
      "# Exploring the Latest Trends in Multi Agents Framework\n",
      "\n",
      "## Introduction to Multi Agents Framework\n",
      "The Multi Agents Framework (MAF) is a cutting-edge technology that involves the coordination and communication of multiple autonomous agents to achieve a common goal. In various industries such as autonomous vehicles, robotics, and IoT devices, MAF plays a crucial role in enhancing efficiency and decision-making processes. Key players in the MAF market, including OpenAI, IBM Watson, and Google DeepMind, have been at the forefront of developing advanced algorithms and technologies to push the boundaries of multi-agent systems.\n",
      "\n",
      "## Latest Trends in MAF\n",
      "One of the latest trends in MAF is its integration with autonomous vehicles and robotics, where multiple agents work together seamlessly to navigate complex environments and make real-time decisions. Additionally, the integration of MAF with IoT devices has opened up new possibilities for smart, interconnected systems that can adapt to changing conditions. Advancements in MAF algorithms and technologies have also led to more efficient and scalable solutions for a wide range of applications.\n",
      "\n",
      "## Key Players in the MAF Market\n",
      "OpenAI, IBM Watson, and Google DeepMind are among the key players in the MAF market, driving innovation and research in the field of multi-agent systems. These companies have been instrumental in developing state-of-the-art solutions that address the complexity of implementing MAF systems and provide valuable insights into the latest trends and advancements in the industry.\n",
      "\n",
      "## Noteworthy News on Multi Agents Framework\n",
      "Recent research studies on MAF applications have highlighted the practical applications of MAF in real-world scenarios, showcasing the potential for widespread adoption in various industries. Industry partnerships and collaborations in the MAF space have further accelerated the development of MAF technologies, leading to more robust and reliable systems. Upcoming events and conferences related to MAF provide opportunities for developers, engineers, business professionals, students, and researchers to stay updated on the latest trends and network with industry experts.\n",
      "\n",
      "## Conclusion and Call to Action\n",
      "In conclusion, the Multi Agents Framework is a dynamic and evolving technology that offers immense potential for innovation and growth in various industries. By staying informed about the latest trends, key players, and noteworthy news in the MAF market, individuals can gain valuable insights and stay ahead of the curve in implementing MAF solutions. I encourage all stakeholders in the AI and robotics field to explore the possibilities of MAF and leverage its capabilities to drive success in their respective domains.\n",
      "\n",
      "Overall, this blog post aims to provide a comprehensive overview of the latest trends in Multi Agents Framework, highlighting the key players in the MAF market, and sharing noteworthy news on MAF applications. By addressing the pain points and interests of the target audience, this content piece seeks to educate and inform readers about the importance and potential of MAF in today's technology-driven world.\u001b[0m\n",
      "\n",
      "\u001b[1m> Finished chain.\u001b[0m\n",
      "\u001b[1m\u001b[92m [DEBUG]: == [Editor] Task output: # Exploring the Latest Trends in Multi Agents Framework\n",
      "\n",
      "## Introduction to Multi Agents Framework\n",
      "The Multi Agents Framework (MAF) is a cutting-edge technology that involves the coordination and communication of multiple autonomous agents to achieve a common goal. In various industries such as autonomous vehicles, robotics, and IoT devices, MAF plays a crucial role in enhancing efficiency and decision-making processes. Key players in the MAF market, including OpenAI, IBM Watson, and Google DeepMind, have been at the forefront of developing advanced algorithms and technologies to push the boundaries of multi-agent systems.\n",
      "\n",
      "## Latest Trends in MAF\n",
      "One of the latest trends in MAF is its integration with autonomous vehicles and robotics, where multiple agents work together seamlessly to navigate complex environments and make real-time decisions. Additionally, the integration of MAF with IoT devices has opened up new possibilities for smart, interconnected systems that can adapt to changing conditions. Advancements in MAF algorithms and technologies have also led to more efficient and scalable solutions for a wide range of applications.\n",
      "\n",
      "## Key Players in the MAF Market\n",
      "OpenAI, IBM Watson, and Google DeepMind are among the key players in the MAF market, driving innovation and research in the field of multi-agent systems. These companies have been instrumental in developing state-of-the-art solutions that address the complexity of implementing MAF systems and provide valuable insights into the latest trends and advancements in the industry.\n",
      "\n",
      "## Noteworthy News on Multi Agents Framework\n",
      "Recent research studies on MAF applications have highlighted the practical applications of MAF in real-world scenarios, showcasing the potential for widespread adoption in various industries. Industry partnerships and collaborations in the MAF space have further accelerated the development of MAF technologies, leading to more robust and reliable systems. Upcoming events and conferences related to MAF provide opportunities for developers, engineers, business professionals, students, and researchers to stay updated on the latest trends and network with industry experts.\n",
      "\n",
      "## Conclusion and Call to Action\n",
      "In conclusion, the Multi Agents Framework is a dynamic and evolving technology that offers immense potential for innovation and growth in various industries. By staying informed about the latest trends, key players, and noteworthy news in the MAF market, individuals can gain valuable insights and stay ahead of the curve in implementing MAF solutions. I encourage all stakeholders in the AI and robotics field to explore the possibilities of MAF and leverage its capabilities to drive success in their respective domains.\n",
      "\n",
      "Overall, this blog post aims to provide a comprehensive overview of the latest trends in Multi Agents Framework, highlighting the key players in the MAF market, and sharing noteworthy news on MAF applications. By addressing the pain points and interests of the target audience, this content piece seeks to educate and inform readers about the importance and potential of MAF in today's technology-driven world.\n",
      "\n",
      "\u001b[00m\n"
     ]
    }
   ],
   "source": [
    "topic = \"Multi Agents Framwework\"\n",
    "result = crew.kickoff(inputs={\"topic\": topic})"
   ]
  },
  {
   "cell_type": "code",
   "execution_count": 26,
   "metadata": {
    "height": 30
   },
   "outputs": [
    {
     "data": {
      "text/markdown": [
       "# Exploring the Latest Trends in Multi Agents Framework\n",
       "\n",
       "## Introduction to Multi Agents Framework\n",
       "The Multi Agents Framework (MAF) is a cutting-edge technology that involves the coordination and communication of multiple autonomous agents to achieve a common goal. In various industries such as autonomous vehicles, robotics, and IoT devices, MAF plays a crucial role in enhancing efficiency and decision-making processes. Key players in the MAF market, including OpenAI, IBM Watson, and Google DeepMind, have been at the forefront of developing advanced algorithms and technologies to push the boundaries of multi-agent systems.\n",
       "\n",
       "## Latest Trends in MAF\n",
       "One of the latest trends in MAF is its integration with autonomous vehicles and robotics, where multiple agents work together seamlessly to navigate complex environments and make real-time decisions. Additionally, the integration of MAF with IoT devices has opened up new possibilities for smart, interconnected systems that can adapt to changing conditions. Advancements in MAF algorithms and technologies have also led to more efficient and scalable solutions for a wide range of applications.\n",
       "\n",
       "## Key Players in the MAF Market\n",
       "OpenAI, IBM Watson, and Google DeepMind are among the key players in the MAF market, driving innovation and research in the field of multi-agent systems. These companies have been instrumental in developing state-of-the-art solutions that address the complexity of implementing MAF systems and provide valuable insights into the latest trends and advancements in the industry.\n",
       "\n",
       "## Noteworthy News on Multi Agents Framework\n",
       "Recent research studies on MAF applications have highlighted the practical applications of MAF in real-world scenarios, showcasing the potential for widespread adoption in various industries. Industry partnerships and collaborations in the MAF space have further accelerated the development of MAF technologies, leading to more robust and reliable systems. Upcoming events and conferences related to MAF provide opportunities for developers, engineers, business professionals, students, and researchers to stay updated on the latest trends and network with industry experts.\n",
       "\n",
       "## Conclusion and Call to Action\n",
       "In conclusion, the Multi Agents Framework is a dynamic and evolving technology that offers immense potential for innovation and growth in various industries. By staying informed about the latest trends, key players, and noteworthy news in the MAF market, individuals can gain valuable insights and stay ahead of the curve in implementing MAF solutions. I encourage all stakeholders in the AI and robotics field to explore the possibilities of MAF and leverage its capabilities to drive success in their respective domains.\n",
       "\n",
       "Overall, this blog post aims to provide a comprehensive overview of the latest trends in Multi Agents Framework, highlighting the key players in the MAF market, and sharing noteworthy news on MAF applications. By addressing the pain points and interests of the target audience, this content piece seeks to educate and inform readers about the importance and potential of MAF in today's technology-driven world."
      ],
      "text/plain": [
       "<IPython.core.display.Markdown object>"
      ]
     },
     "execution_count": 26,
     "metadata": {},
     "output_type": "execute_result"
    }
   ],
   "source": [
    "Markdown(result)"
   ]
  },
  {
   "cell_type": "markdown",
   "metadata": {},
   "source": [
    "<a name='1'></a>\n",
    " ## Other Popular Models as LLM for your Agents"
   ]
  },
  {
   "cell_type": "markdown",
   "metadata": {},
   "source": [
    "#### Hugging Face (HuggingFaceHub endpoint)\n",
    "\n",
    "```Python\n",
    "from langchain_community.llms import HuggingFaceHub\n",
    "\n",
    "llm = HuggingFaceHub(\n",
    "    repo_id=\"HuggingFaceH4/zephyr-7b-beta\",\n",
    "    huggingfacehub_api_token=\"<HF_TOKEN_HERE>\",\n",
    "    task=\"text-generation\",\n",
    ")\n",
    "\n",
    "### you will pass \"llm\" to your agent function\n",
    "```"
   ]
  },
  {
   "cell_type": "markdown",
   "metadata": {},
   "source": [
    "#### Mistral API\n",
    "\n",
    "```Python\n",
    "OPENAI_API_KEY=your-mistral-api-key\n",
    "OPENAI_API_BASE=https://api.mistral.ai/v1\n",
    "OPENAI_MODEL_NAME=\"mistral-small\"\n",
    "```"
   ]
  },
  {
   "cell_type": "markdown",
   "metadata": {},
   "source": [
    "#### Cohere\n",
    "\n",
    "```Python\n",
    "from langchain_community.chat_models import ChatCohere\n",
    "# Initialize language model\n",
    "os.environ[\"COHERE_API_KEY\"] = \"your-cohere-api-key\"\n",
    "llm = ChatCohere()\n",
    "\n",
    "### you will pass \"llm\" to your agent function\n",
    "```"
   ]
  },
  {
   "cell_type": "markdown",
   "metadata": {},
   "source": [
    "### For using Llama locally with Ollama and more, checkout the crewAI documentation on [Connecting to any LLM](https://docs.crewai.com/how-to/LLM-Connections/)."
   ]
  },
  {
   "cell_type": "code",
   "execution_count": null,
   "metadata": {
    "height": 30
   },
   "outputs": [],
   "source": []
  },
  {
   "cell_type": "code",
   "execution_count": null,
   "metadata": {
    "height": 30
   },
   "outputs": [],
   "source": []
  },
  {
   "cell_type": "code",
   "execution_count": null,
   "metadata": {
    "height": 30
   },
   "outputs": [],
   "source": []
  }
 ],
 "metadata": {
  "colab": {
   "gpuType": "T4",
   "provenance": []
  },
  "kernelspec": {
   "display_name": "Python 3 (ipykernel)",
   "language": "python",
   "name": "python3"
  },
  "language_info": {
   "codemirror_mode": {
    "name": "ipython",
    "version": 3
   },
   "file_extension": ".py",
   "mimetype": "text/x-python",
   "name": "python",
   "nbconvert_exporter": "python",
   "pygments_lexer": "ipython3",
   "version": "3.11.9"
  }
 },
 "nbformat": 4,
 "nbformat_minor": 4
}
